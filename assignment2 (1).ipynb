{
 "cells": [
  {
   "cell_type": "code",
   "execution_count": null,
   "id": "67d879c2-9c76-494d-8ff5-678e1d17ac62",
   "metadata": {},
   "outputs": [],
   "source": [
    "#question 1: Write a program to accept percentage from the user and display the grade according to the following criteria :"
   ]
  },
  {
   "cell_type": "code",
   "execution_count": null,
   "id": "0285b4cd-504a-4c9b-b2d4-da06edea5135",
   "metadata": {},
   "outputs": [],
   "source": [
    "#Answer 1:"
   ]
  },
  {
   "cell_type": "code",
   "execution_count": 4,
   "id": "f432c379-3475-43a6-bfb8-85e9c20f720a",
   "metadata": {},
   "outputs": [
    {
     "name": "stdout",
     "output_type": "stream",
     "text": [
      "enter the marks\n"
     ]
    },
    {
     "name": "stdin",
     "output_type": "stream",
     "text": [
      "None 89\n"
     ]
    },
    {
     "name": "stdout",
     "output_type": "stream",
     "text": [
      " B Grade\n"
     ]
    }
   ],
   "source": [
    "marks= int(input(print(\"enter the marks\")))\n",
    "if marks>90:\n",
    "    print(\" A Grade\")\n",
    "elif marks>80 and marks<=90:\n",
    "    print(\" B Grade\")\n",
    "elif marks>=60 and marks<=80:\n",
    "    print(\" C Grade\")\n",
    "else :\n",
    "    print(\" D Grade\")"
   ]
  },
  {
   "cell_type": "code",
   "execution_count": null,
   "id": "b4324d11-1710-43e6-831b-527e90765fdf",
   "metadata": {},
   "outputs": [],
   "source": [
    "# question 2: Write a program to accept the cost price of a bike and display the road tax to be paid according to the following criteria :"
   ]
  },
  {
   "cell_type": "code",
   "execution_count": null,
   "id": "a968fe24-710a-4022-8a1e-a4e87bc9957f",
   "metadata": {},
   "outputs": [],
   "source": [
    "# Answer 2:"
   ]
  },
  {
   "cell_type": "code",
   "execution_count": 11,
   "id": "57e47d07-bca7-451a-81ab-28f022bdc46d",
   "metadata": {},
   "outputs": [
    {
     "name": "stdout",
     "output_type": "stream",
     "text": [
      "Enter the cost price  of bike = \n"
     ]
    },
    {
     "name": "stdin",
     "output_type": "stream",
     "text": [
      "None 89349\n"
     ]
    },
    {
     "name": "stdout",
     "output_type": "stream",
     "text": [
      "Road tax = 10% \n"
     ]
    }
   ],
   "source": [
    "cost_price = int(input(print(\"Enter the cost price  of bike = \")))\n",
    "if cost_price>100000:\n",
    "    print(\"Road tax = 15% \")\n",
    "elif cost_price>50000 and cost_price<=100000:\n",
    "    print(\"Road tax = 10% \")\n",
    "else :\n",
    "    print(\"Road tax = 5% \")"
   ]
  },
  {
   "cell_type": "code",
   "execution_count": null,
   "id": "1fa51fe8-cf3f-42b9-8e04-78da85c66835",
   "metadata": {},
   "outputs": [],
   "source": [
    "#question 3: Accept any city from the user and display monuments of that city."
   ]
  },
  {
   "cell_type": "code",
   "execution_count": null,
   "id": "56adc771-7535-49fb-aabe-2e769280f2cc",
   "metadata": {},
   "outputs": [],
   "source": [
    "#Answer 3:"
   ]
  },
  {
   "cell_type": "code",
   "execution_count": null,
   "id": "8b5bd048-b499-4d39-8fed-9c6745ecd4ef",
   "metadata": {},
   "outputs": [],
   "source": [
    "city = input(print(\"Enter the city name\"))\n",
    "if city=='delhi':\n",
    "    print(\"Red Fort \")\n",
    "elif city=='agra':\n",
    "    print(\"Taj Mahal\")\n",
    "elif city=='jaipur':\n",
    "    print(\"Jal Mahal\")\n",
    "else:\n",
    "    print(\"invald entry\")"
   ]
  },
  {
   "cell_type": "code",
   "execution_count": null,
   "id": "a69476cb-569f-46c8-960b-fefd3568726c",
   "metadata": {},
   "outputs": [],
   "source": [
    "#question 4:Check how many times a given number can be divided by 3 before it is less than or equal to 10."
   ]
  },
  {
   "cell_type": "code",
   "execution_count": null,
   "id": "9154fe40-6019-4150-aae0-5c65a66e4b38",
   "metadata": {},
   "outputs": [],
   "source": [
    "#answer 4:"
   ]
  },
  {
   "cell_type": "code",
   "execution_count": 7,
   "id": "daf5fda2-9c7e-4aa1-b0f3-aa4a0e2b1690",
   "metadata": {},
   "outputs": [
    {
     "name": "stdin",
     "output_type": "stream",
     "text": [
      "enter your number 45\n"
     ]
    },
    {
     "name": "stdout",
     "output_type": "stream",
     "text": [
      "2\n"
     ]
    }
   ],
   "source": [
    "n=int(input(\"enter your number\"))\n",
    "count =0\n",
    "while n>=10:\n",
    "    n = n/3\n",
    "    count+=1\n",
    "print(count)"
   ]
  },
  {
   "cell_type": "code",
   "execution_count": 19,
   "id": "69e93638-46f4-42cc-92ca-8340443b3d05",
   "metadata": {},
   "outputs": [],
   "source": [
    "#question 5: Why and When to use while loop in python give a detailed description with example"
   ]
  },
  {
   "cell_type": "code",
   "execution_count": 20,
   "id": "c8bfe971-d3ba-4e46-9852-7f9b10c5a104",
   "metadata": {},
   "outputs": [],
   "source": [
    "# answer 5:"
   ]
  },
  {
   "cell_type": "code",
   "execution_count": 21,
   "id": "d862d713-9256-44ff-b404-e9f94d264d7c",
   "metadata": {},
   "outputs": [],
   "source": [
    "# While loop used when the number of iterations is unknown. The statement repeat itself till the boolean value becomes false. In a while loop,\n",
    "# the condition is tested at the start , also known as pre-test loop\n",
    "# 1. Initialise the starting value\n",
    "# 2. chech that the starting value is less than the stopping value.\n",
    "# 3.execute the statement.\n",
    "# 4. increment the starting values."
   ]
  },
  {
   "cell_type": "code",
   "execution_count": 22,
   "id": "817d25e3-8e4b-498b-abc1-4b6db03010e9",
   "metadata": {},
   "outputs": [],
   "source": [
    "# for example"
   ]
  },
  {
   "cell_type": "code",
   "execution_count": 23,
   "id": "7bb07eff-5343-45f6-b1d3-9ad55987e821",
   "metadata": {},
   "outputs": [
    {
     "name": "stdout",
     "output_type": "stream",
     "text": [
      "1\n",
      "2\n",
      "3\n",
      "4\n",
      "5\n"
     ]
    }
   ],
   "source": [
    "i=1\n",
    "while i<6:\n",
    "    print(i)\n",
    "    i+=1"
   ]
  },
  {
   "cell_type": "code",
   "execution_count": 8,
   "id": "827d08d9-04c8-4270-9f0d-9406f2133288",
   "metadata": {},
   "outputs": [],
   "source": [
    "#question 6: Use nested while loop to print 3 different pattern."
   ]
  },
  {
   "cell_type": "code",
   "execution_count": 9,
   "id": "e30058ce-685d-4278-b6a3-a715b205ffa5",
   "metadata": {},
   "outputs": [],
   "source": [
    "#answer 6:"
   ]
  },
  {
   "cell_type": "code",
   "execution_count": null,
   "id": "95c6e608-9f5c-449a-aa65-b663bf8c2fa0",
   "metadata": {},
   "outputs": [],
   "source": [
    "#first pattern"
   ]
  },
  {
   "cell_type": "code",
   "execution_count": 2,
   "id": "ac24c635-8426-49ba-b163-beb7b9195d78",
   "metadata": {},
   "outputs": [
    {
     "name": "stdin",
     "output_type": "stream",
     "text": [
      "enter your number 5\n"
     ]
    },
    {
     "name": "stdout",
     "output_type": "stream",
     "text": [
      "*\n",
      "**\n",
      "***\n",
      "****\n",
      "*****\n"
     ]
    }
   ],
   "source": [
    "n=int(input(\"enter your number\"))\n",
    "row=1\n",
    "while row<=n:\n",
    "    col=1\n",
    "    while col<=row:\n",
    "        print(\"*\",end=\"\")\n",
    "        col+=1\n",
    "    print(\"\")\n",
    "    row+=1"
   ]
  },
  {
   "cell_type": "code",
   "execution_count": 3,
   "id": "14995a67-9ee3-496c-9726-983d35767ea2",
   "metadata": {},
   "outputs": [],
   "source": [
    "#second pattern"
   ]
  },
  {
   "cell_type": "code",
   "execution_count": 5,
   "id": "814e7545-59b9-44b9-a328-c38b7a5aa64c",
   "metadata": {},
   "outputs": [
    {
     "name": "stdin",
     "output_type": "stream",
     "text": [
      "enter your number 5\n"
     ]
    },
    {
     "name": "stdout",
     "output_type": "stream",
     "text": [
      "*****\n",
      "*****\n",
      "*****\n",
      "*****\n",
      "*****\n"
     ]
    }
   ],
   "source": [
    "n=int(input(\"enter your number\"))\n",
    "row=1\n",
    "while row<=n:\n",
    "    col=1\n",
    "    while col<=n:\n",
    "        print(\"*\",end=\"\")\n",
    "        col+=1\n",
    "    print(\"\")\n",
    "    row+=1"
   ]
  },
  {
   "cell_type": "code",
   "execution_count": 6,
   "id": "6fe6f3d8-c6fb-431c-8277-1b9716592205",
   "metadata": {},
   "outputs": [],
   "source": [
    "#third pattern"
   ]
  },
  {
   "cell_type": "code",
   "execution_count": 10,
   "id": "4b3b8aad-3c0d-4b78-8d96-a1871067dd6d",
   "metadata": {},
   "outputs": [
    {
     "name": "stdin",
     "output_type": "stream",
     "text": [
      "enter your number 5\n"
     ]
    },
    {
     "name": "stdout",
     "output_type": "stream",
     "text": [
      "*****\n",
      "****\n",
      "***\n",
      "**\n",
      "*\n",
      "\n"
     ]
    }
   ],
   "source": [
    "n=int(input(\"enter your number\"))\n",
    "row=0\n",
    "while row<=n:\n",
    "    col=1\n",
    "    while col<=n-row:\n",
    "        print(\"*\",end=\"\")\n",
    "        col+=1\n",
    "    print()\n",
    "    row+=1"
   ]
  },
  {
   "cell_type": "code",
   "execution_count": 11,
   "id": "13b8b2c3-0d2c-4de0-8ad7-3f746f9ddb54",
   "metadata": {},
   "outputs": [],
   "source": [
    "#question 7: Reverse a while loop to display a number from 10 to 1"
   ]
  },
  {
   "cell_type": "code",
   "execution_count": 12,
   "id": "8e568ece-3dde-443e-846b-66b411dd72c7",
   "metadata": {},
   "outputs": [],
   "source": [
    "#answer 7:"
   ]
  },
  {
   "cell_type": "code",
   "execution_count": 15,
   "id": "c36622d7-00aa-4b12-9db7-ab8b8bd28939",
   "metadata": {},
   "outputs": [
    {
     "name": "stdout",
     "output_type": "stream",
     "text": [
      "10\n",
      "9\n",
      "8\n",
      "7\n",
      "6\n",
      "5\n",
      "4\n",
      "3\n",
      "2\n",
      "1\n"
     ]
    }
   ],
   "source": [
    "n=10\n",
    "while n>=1:\n",
    "    print(n)\n",
    "    n-=1"
   ]
  },
  {
   "cell_type": "code",
   "execution_count": 16,
   "id": "0140b36d-5ae0-4320-adb0-f9edb22c573d",
   "metadata": {},
   "outputs": [],
   "source": [
    "#question 8: Reverse a while loop to display a number from 10 to 1"
   ]
  },
  {
   "cell_type": "code",
   "execution_count": 17,
   "id": "56f0ed4f-2179-4bdd-b567-0803a636bbca",
   "metadata": {},
   "outputs": [],
   "source": [
    "#answer 8:"
   ]
  },
  {
   "cell_type": "code",
   "execution_count": 18,
   "id": "57d51801-d352-48ba-8b3c-366254e971f1",
   "metadata": {},
   "outputs": [
    {
     "name": "stdout",
     "output_type": "stream",
     "text": [
      "10\n",
      "9\n",
      "8\n",
      "7\n",
      "6\n",
      "5\n",
      "4\n",
      "3\n",
      "2\n",
      "1\n"
     ]
    }
   ],
   "source": [
    "n=10\n",
    "while n>=1:\n",
    "    print(n)\n",
    "    n-=1"
   ]
  },
  {
   "cell_type": "code",
   "execution_count": null,
   "id": "5ef2fe1c-9c4c-4cef-815b-07634749d4b3",
   "metadata": {},
   "outputs": [],
   "source": []
  }
 ],
 "metadata": {
  "kernelspec": {
   "display_name": "Python 3 (ipykernel)",
   "language": "python",
   "name": "python3"
  },
  "language_info": {
   "codemirror_mode": {
    "name": "ipython",
    "version": 3
   },
   "file_extension": ".py",
   "mimetype": "text/x-python",
   "name": "python",
   "nbconvert_exporter": "python",
   "pygments_lexer": "ipython3",
   "version": "3.10.8"
  }
 },
 "nbformat": 4,
 "nbformat_minor": 5
}
